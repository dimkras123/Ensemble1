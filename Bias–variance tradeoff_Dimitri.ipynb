{
 "cells": [
  {
   "cell_type": "code",
   "execution_count": null,
   "metadata": {},
   "outputs": [],
   "source": [
    "# Bias–Variance Tradeoff\n",
    "\n",
    "# In statistics and machine learning, the bias–variance tradeoff is the property of a set of predictive models \n",
    "# whereby models with a lower bias in parameter estimation have a higher variance of the parameter estimates \n",
    "# across samples, and vice versa. The bias–variance dilemma or bias–variance problem is the conflict in trying \n",
    "# to simultaneously minimize these two sources of error that prevent supervised learning algorithms from \n",
    "# generalizing beyond their training set:\n",
    "\n",
    "# The bias error is an error from erroneous assumptions in the learning algorithm. \n",
    "# High bias can cause an algorithm to miss the relevant relations between features and target outputs \n",
    "# (underfitting).\n",
    "# The variance is an error from sensitivity to small fluctuations in the training set. High variance can cause \n",
    "# an algorithm to model the random noise in the training data, rather than the intended outputs (overfitting)."
   ]
  }
 ],
 "metadata": {
  "kernelspec": {
   "display_name": "Python 3",
   "language": "python",
   "name": "python3"
  },
  "language_info": {
   "codemirror_mode": {
    "name": "ipython",
    "version": 3
   },
   "file_extension": ".py",
   "mimetype": "text/x-python",
   "name": "python",
   "nbconvert_exporter": "python",
   "pygments_lexer": "ipython3",
   "version": "3.7.3"
  }
 },
 "nbformat": 4,
 "nbformat_minor": 2
}
